{
 "cells": [
  {
   "cell_type": "markdown",
   "id": "55f20207-c333-40e9-91bb-00bf8fc01e47",
   "metadata": {},
   "source": [
    "# Figures 5 & 6\n",
    "In this notebook, we will reproduce the panels that comprise Figures 5 and 6. Plots involving experimental data cannot be included, however, as this data is owned by the original authors and can only be distributed with their permission.\n",
    "\n",
    "We first import the necessary packages, i.e. `NumPy`, `SciPy`, and `Matplotlib`. We also import a module called `stats_tools` which contains our own statistics functions that are specifically written for the synaptic data. This, in turn, requires `SciPy` and `Scikit-learn`."
   ]
  },
  {
   "cell_type": "code",
   "execution_count": 2,
   "id": "ebbc3b22-befc-42f6-90a5-de14d30522ec",
   "metadata": {},
   "outputs": [],
   "source": [
    "import numpy as np\n",
    "from scipy.stats import binned_statistic, linregress, norm\n",
    "from scipy.linalg import lstsq\n",
    "from scipy.optimize import curve_fit\n",
    "from scipy.ndimage import uniform_filter1d\n",
    "import matplotlib.pyplot as plt\n",
    "import matplotlib.lines as mlines\n",
    "from matplotlib.legend_handler import HandlerTuple\n",
    "import matplotlib.colors as mcolors\n",
    "\n",
    "from stats_tools import curate_data, slope_vs_dt, cv"
   ]
  },
  {
   "cell_type": "markdown",
   "id": "8a897aaf-c7ed-44b4-896d-88ba1467afa9",
   "metadata": {},
   "source": [
    "We define some layout settings for the plots as a few other auxiliary variables."
   ]
  },
  {
   "cell_type": "code",
   "execution_count": 3,
   "id": "a90031e7-d021-4e7b-996d-13a5cb57c124",
   "metadata": {},
   "outputs": [],
   "source": [
    "plt.rcParams.update({'pdf.fonttype': 42,\n",
    "                     'pdf.use14corefonts': False,\n",
    "                     'ps.useafm': False,\n",
    "                     'figure.constrained_layout.use': True,\n",
    "                     'figure.dpi': 150.,\n",
    "                     'font.size': 7,\n",
    "                     'figure.titlesize': 7,\n",
    "                     'figure.labelsize': 7,\n",
    "                     'axes.labelsize': 7,\n",
    "                     'axes.labelpad': 2,\n",
    "                     'axes.titlesize': 7,\n",
    "                     'axes.titlepad': 2,\n",
    "                     'figure.titlesize': 7,\n",
    "                     'figure.labelweight': 'light',\n",
    "                     'figure.titleweight': 'light',\n",
    "                     'axes.labelweight': 'light',\n",
    "                     'axes.titleweight': 'light',\n",
    "                     'font.family': 'sans-serif',\n",
    "                     'font.sans-serif': 'Arial',\n",
    "                     'font.weight': 'light',\n",
    "                     'mathtext.fontset': 'custom',\n",
    "                     'mathtext.it': 'Arial:italic',\n",
    "                     'mathtext.bf': 'Arial:bold',\n",
    "                     'mathtext.sf': 'Arial:light',\n",
    "                     'mathtext.default': 'sf',\n",
    "                     'axes.spines.right': False,\n",
    "                     'axes.spines.top': False,\n",
    "                     'axes.linewidth': 0.5,\n",
    "                     'xtick.major.size': 2.5,\n",
    "                     'xtick.minor.size': 1.5,\n",
    "                     'ytick.major.size': 2.5,\n",
    "                     'ytick.minor.size': 1.5,\n",
    "                     'xtick.major.width': 0.5,\n",
    "                     'xtick.minor.width': 0.5,\n",
    "                     'ytick.major.width': 0.5,\n",
    "                     'ytick.minor.width': 0.5,\n",
    "                     'xtick.major.pad': 3.5/3,\n",
    "                     'xtick.minor.pad': 3.5/3,\n",
    "                     'ytick.major.pad': 3.5/3,\n",
    "                     'ytick.minor.pad': 3.5/3,\n",
    "                     'lines.linewidth': 1.5,\n",
    "                     'lines.markersize': 4.,\n",
    "                     'hatch.color': 'w',\n",
    "                     'hatch.linewidth': 0.5,})\n",
    "\n",
    "mm = 1/2.54/10  # mm in inches\n",
    "cm = 1/2.54  # cm in inches"
   ]
  },
  {
   "cell_type": "markdown",
   "id": "d0fa3877-5a13-40f3-b87a-c9a1d5a59b06",
   "metadata": {},
   "source": [
    "Load data files containing the results of the simulations. Synaptic data files are stored typically as `NumPy` binaries (`.npy`)."
   ]
  },
  {
   "cell_type": "code",
   "execution_count": 4,
   "id": "73022639-cfa0-4e7a-8517-2a2fe9ff9b26",
   "metadata": {},
   "outputs": [],
   "source": [
    "sim_dict = np.load('./data/diffusion_k00_u-hom_tau-30.npy', allow_pickle=True).item()"
   ]
  },
  {
   "cell_type": "markdown",
   "id": "a6eff893-425d-4609-808e-29a07bfd56f3",
   "metadata": {},
   "source": [
    "We now run the statistical analysis on the simulated synaptic population."
   ]
  },
  {
   "cell_type": "code",
   "execution_count": 9,
   "id": "13c8c83d-6d3c-423c-a443-a541e7dca109",
   "metadata": {},
   "outputs": [
    {
     "name": "stdout",
     "output_type": "stream",
     "text": [
      "z: 1\n",
      "Curation... Done!\n",
      "CVs... Done!\n",
      "z: 2\n",
      "Curation... Done!\n",
      "CVs... Done!\n",
      "z: 3\n",
      "Curation... Done!\n",
      "CVs... Done!\n",
      "z: 4\n",
      "Curation... Done!\n",
      "CVs... Done!\n",
      "z: 5\n",
      "Curation... Done!\n",
      "CVs... Done!\n",
      "Done!\n"
     ]
    }
   ],
   "source": [
    "# the simulated time step represents 10 min of real time\n",
    "dt = 10/60\n",
    "\n",
    "# we select 144 steps of simulated data\n",
    "n_steps = 144\n",
    "\n",
    "# loop over datasets with different z-values\n",
    "for z in [1, 2, 3, 4, 5]:\n",
    "    print(f'z: {z}')\n",
    "    if sim_dict['num'][z][-1] < 0.1:\n",
    "        continue\n",
    "    sim_clean = curate_data(sim_dict['w'][z][:,-n_steps:], dt=dt)\n",
    "    sim_clean = cv(sim_clean, n_resamples=1000, n_steps=n_steps, seed=123)\n",
    "    # sim_clean = slope_vs_dt(sim_clean, n_resamples=100, seed=boot_seed, slope='conv')\n",
    "    sim_dict['z'+str(z)] = sim_clean\n",
    "print('FINISHED!')"
   ]
  },
  {
   "cell_type": "code",
   "execution_count": null,
   "id": "e03bfad5-2250-450e-855a-f65d1684b36b",
   "metadata": {},
   "outputs": [],
   "source": [
    "# save cleaned and analyzed dataset\n",
    "#np.save('./data/diffusion_k00_u-hom_tau-30_clean_extra-CV.npy', sim_dict)"
   ]
  }
 ],
 "metadata": {
  "kernelspec": {
   "display_name": "Python 3 (ipykernel)",
   "language": "python",
   "name": "python3"
  },
  "language_info": {
   "codemirror_mode": {
    "name": "ipython",
    "version": 3
   },
   "file_extension": ".py",
   "mimetype": "text/x-python",
   "name": "python",
   "nbconvert_exporter": "python",
   "pygments_lexer": "ipython3",
   "version": "3.12.11"
  }
 },
 "nbformat": 4,
 "nbformat_minor": 5
}
