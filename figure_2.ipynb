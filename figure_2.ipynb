{
 "cells": [
  {
   "cell_type": "markdown",
   "id": "225bcdc5-95e0-4a30-9a26-7fc422a1e6cb",
   "metadata": {},
   "source": [
    "# Figure 2\n",
    "In this notebook, we will reproduce the panels that comprise Figure 2. Plots involving experimental data cannot be included, however, as this data is owned by the original authors and can only be distributed with their permission.\n",
    "\n",
    "We first import the necessary packages, i.e. `NumPy`, `PyTorch`, and `Matplotlib`."
   ]
  },
  {
   "cell_type": "code",
   "execution_count": 11,
   "id": "eaa771f9-7059-4861-af86-529bb4e56cf5",
   "metadata": {},
   "outputs": [],
   "source": [
    "import numpy as np\n",
    "import torch\n",
    "import matplotlib.pyplot as plt\n",
    "import matplotlib.lines as mlines\n",
    "from matplotlib.legend_handler import HandlerTuple\n",
    "import matplotlib.colors as mcolors\n",
    "from scipy.stats import ttest_ind_from_stats"
   ]
  },
  {
   "cell_type": "markdown",
   "id": "c0530367-2a27-4530-a6a8-3afac76a94e9",
   "metadata": {},
   "source": [
    "We define some layout settings for the plots as a few other auxiliary variables."
   ]
  },
  {
   "cell_type": "code",
   "execution_count": 36,
   "id": "6e05127e-665d-483f-86c9-59e915062977",
   "metadata": {},
   "outputs": [],
   "source": [
    "plt.rcParams.update({'pdf.fonttype': 42,\n",
    "                     'pdf.use14corefonts': False,\n",
    "                     'ps.useafm': False,\n",
    "                     'figure.constrained_layout.use': True,\n",
    "                     'figure.dpi': 150.,\n",
    "                     'font.size': 7,\n",
    "                     'figure.titlesize': 7,\n",
    "                     'figure.labelsize': 7,\n",
    "                     'axes.labelsize': 7,\n",
    "                     'axes.labelpad': 2,\n",
    "                     'axes.titlesize': 7,\n",
    "                     'axes.titlepad': 2,\n",
    "                     'figure.titlesize': 7,\n",
    "                     'figure.labelweight': 'light',\n",
    "                     'figure.titleweight': 'light',\n",
    "                     'axes.labelweight': 'light',\n",
    "                     'axes.titleweight': 'light',\n",
    "                     'font.family': 'sans-serif',\n",
    "                     'font.sans-serif': 'Arial',\n",
    "                     'font.weight': 'light',\n",
    "                     'mathtext.fontset': 'custom',\n",
    "                     'mathtext.it': 'Arial:italic',\n",
    "                     'mathtext.bf': 'Arial:bold',\n",
    "                     'mathtext.sf': 'Arial:light',\n",
    "                     'mathtext.default': 'sf',\n",
    "                     'axes.spines.right': False,\n",
    "                     'axes.spines.top': False,\n",
    "                     'axes.linewidth': 0.5,\n",
    "                     'xtick.major.size': 2.5,\n",
    "                     'xtick.minor.size': 1.5,\n",
    "                     'ytick.major.size': 2.5,\n",
    "                     'ytick.minor.size': 1.5,\n",
    "                     'xtick.major.width': 0.5,\n",
    "                     'xtick.minor.width': 0.5,\n",
    "                     'ytick.major.width': 0.5,\n",
    "                     'ytick.minor.width': 0.5,\n",
    "                     'xtick.major.pad': 3.5/3,\n",
    "                     'xtick.minor.pad': 3.5/3,\n",
    "                     'ytick.major.pad': 3.5/3,\n",
    "                     'ytick.minor.pad': 3.5/3,\n",
    "                     'lines.linewidth': 1.5,\n",
    "                     'lines.markersize': 4.,\n",
    "                     'hatch.color': 'w',\n",
    "                     'hatch.linewidth': 0.5,})\n",
    "\n",
    "blues = plt.cm.Blues(np.linspace(0.95,0.35,4))\n",
    "greens = plt.cm.Greens(np.linspace(0.9,0.35,4))\n",
    "oranges = plt.cm.YlOrBr(np.linspace(0.9,0.3,4))\n",
    "reds = plt.cm.Reds(np.linspace(0.8,0.2,4))\n",
    "purples = plt.cm.Purples(np.linspace(0.8,0.2,4))\n",
    "greys = plt.cm.Greys(np.linspace(0.8,0.2,4))\n",
    "mygray = np.ones(3)*0.90\n",
    "\n",
    "mm = 1/2.54/10  # mm in inches\n",
    "cm = 1/2.54  # cm in inches"
   ]
  },
  {
   "cell_type": "markdown",
   "id": "c1b6d479-ff68-48dc-844f-f87090c973fc",
   "metadata": {},
   "source": [
    "Load data files containing the results of the simulations and the numerical solutions to the theoretical predictions. Data files are stored either as `PyTorch` binaries (`.pt`) or `NumPy` binaries (`.npy`)."
   ]
  },
  {
   "cell_type": "code",
   "execution_count": 9,
   "id": "2541f102-6c3f-4019-9d1e-d2a4f1674265",
   "metadata": {},
   "outputs": [],
   "source": [
    "# load to cpu\n",
    "device = torch.device('cpu')\n",
    "\n",
    "# main simulation\n",
    "data_50 = torch.load('./data/rnn-tol_f50_bern_seed1.pt', map_location=device)\n",
    "\n",
    "# ablation studies\n",
    "data_50_no_u = torch.load('./data/rnn-ctrl_f50_bern_no-u_seed1.pt', map_location=device)\n",
    "data_50_no_norm = torch.load('./data/rnn-ctrl_f50_bern_no-norm_seed1.pt', map_location=device)\n",
    "\n",
    "# sparse patterns\n",
    "data_10_1 = torch.load('./data/rnn-tol_f10_bern_seed1_N3000-1.pt', map_location=device)\n",
    "data_10_2 = torch.load('./data/rnn-tol_f10_bern_seed1_N3000-2.pt', map_location=device)\n",
    "\n",
    "# theoretical solutions\n",
    "theory_l2 = np.load('./theory/replica_l2_geom_l0.npy', allow_pickle=True).item()\n",
    "theory_l2_crit = np.load('./theory/replica_l2_crit.npy', allow_pickle=True).item()\n",
    "theory_l1 = np.load('./theory/replica_l1_geom.npy', allow_pickle=True).item()"
   ]
  },
  {
   "cell_type": "markdown",
   "id": "3229ddcc-9bfc-4a88-9a82-67e04334072b",
   "metadata": {},
   "source": [
    "Define parameters about the simulation and print some meta-data."
   ]
  },
  {
   "cell_type": "code",
   "execution_count": 30,
   "id": "7a3a1181-1ca0-48c2-a115-08daeb20a788",
   "metadata": {},
   "outputs": [
    {
     "name": "stdout",
     "output_type": "stream",
     "text": [
      "date: 2024-03-30 03:47:15\n",
      "N: 1000\n",
      "M: 700\n",
      "f: 0.5\n",
      "inh_ratio: 0.0\n",
      "z: 4\n",
      "u0: 0.1\n",
      "theta0: 0.0\n",
      "length: 50\n",
      "eta: 0.007000000216066837\n",
      "eta_theta: 0.007000000216066837\n",
      "seed: 100\n",
      "n_epochs: 8750000\n",
      "norm_type: u\n",
      "weight_type: hadamard\n",
      "optimizer_type: bp\n",
      "pattern_type: bernoulli\n",
      "inh_type: unbalanced\n",
      "with_bias: True\n",
      "kernel_degree: 1\n",
      "record_on: False\n"
     ]
    }
   ],
   "source": [
    "# critical capacities\n",
    "ac_50 = theory_l2_crit['alpha_c'][0]\n",
    "ac_10 = theory_l2_crit['alpha_c'][1]\n",
    "\n",
    "# number of z-values\n",
    "n_z = data_50['z'].max()\n",
    "\n",
    "# number of storage loads\n",
    "n_a = data_50['a'].shape[0]\n",
    "\n",
    "# number of neurons\n",
    "N = data_50['params']['N']\n",
    "\n",
    "# print simulation meta data for the last run\n",
    "print('date:', data_50['date'])\n",
    "print('\\n'.join('{}: {}'.format(k, v) for k, v in data_50['params'].items()))"
   ]
  },
  {
   "cell_type": "markdown",
   "id": "824eca94-72bf-402d-9707-1288c2cb4365",
   "metadata": {},
   "source": [
    "### SNR with respect to different $q$-values, in networks with different $z$-values"
   ]
  },
  {
   "cell_type": "code",
   "execution_count": 37,
   "id": "1b63855d-4da4-4507-a3f5-cdb59562ed24",
   "metadata": {},
   "outputs": [
    {
     "name": "stderr",
     "output_type": "stream",
     "text": [
      "/var/folders/zw/97zkf2ps7tvc9t7jcj25pv0w0000gn/T/ipykernel_1391/558314884.py:93: UserWarning: FigureCanvasAgg is non-interactive, and thus cannot be shown\n",
      "  fig.show()\n"
     ]
    },
    {
     "data": {
      "image/png": "[encoded data removed]",
      "text/plain": [
       "<Figure size 236.22x129.921 with 1 Axes>"
      ]
     },
     "metadata": {},
     "output_type": "display_data"
    }
   ],
   "source": [
    "fig, ax = plt.subplots(figsize=(4.*cm, 2.2*cm), nrows=1, ncols=1, gridspec_kw={'height_ratios':[1]})\n",
    "\n",
    "# fig = plt.figure(figsize=(5, 2))\n",
    "# ax = fig.add_subplot(111)\n",
    "label_vec = ['1', '2', '3', '4']\n",
    "\n",
    "jit = 0.2\n",
    "\n",
    "# x_vec = np.array([1,2,3,4])\n",
    "# x_vec = np.array([[1,2,3,4],\n",
    "#                   [6,7,8,9],\n",
    "#                   [11,12,13,14],\n",
    "#                   [16,17,18,19]])\n",
    "x_vec = np.array([np.linspace(1+jit, 4-jit, 4),\n",
    "                  np.linspace(6+jit, 9-jit, 4),\n",
    "                  np.linspace(11+jit, 14-jit, 4),\n",
    "                  np.linspace(16+jit, 19-jit, 4)])\n",
    "\n",
    "i_a = 0\n",
    "\n",
    "K_max = data_50['min_margin_mean'][:,0,i_a,0].max()\n",
    "K_mean = data_50['min_margin_mean'][:,0,i_a,0]/K_max\n",
    "K_std = data_50['min_margin_std'][:,0,i_a,0]/K_max\n",
    "K_sem = data_50['min_margin_std'][:,0,i_a,0]/np.sqrt(N)/K_max\n",
    "\n",
    "for i_z in range(n_z):\n",
    "    b01 = ax.bar(x_vec[0,i_z], K_mean[i_z], #yerr=K_sem[i_z],\n",
    "                width=0.75, capsize=2.5, color=blues[i_z], linewidth=0, error_kw={'ecolor': 'k', 'elinewidth': 0.4, 'capthick': 0.4})\n",
    "# for i_z in range(n_z):\n",
    "#     ax.text(x_vec[i_z], 0.1, r'$\\it{z=}$'+label_vec[i_z], horizontalalignment='left',\n",
    "#                     verticalalignment='center_baseline', rotation=90, rotation_mode='anchor', fontsize=6, family='Arial')\n",
    "ax.text(x_vec[0].mean(), 1.05, r'$\\it q\\!=\\!2$', size=5, color=blues[0,:3]*0, ha='center')\n",
    "\n",
    "# x_vec = np.array([6,7,8,9])\n",
    "\n",
    "K_max = data_50['rho_mean'][:,0,i_a,0].max()\n",
    "K_mean = data_50['rho_mean'][:,0,i_a,0]/K_max\n",
    "K_std = data_50['rho_std'][:,0,i_a,0]/K_max\n",
    "K_sem = data_50['rho_std'][:,0,i_a,0]/np.sqrt(N)/K_max\n",
    "\n",
    "for i_z in range(n_z):\n",
    "    b01 = ax.bar(x_vec[1,i_z], K_mean[i_z], #yerr=K_sem[i_z],\n",
    "                width=0.75, capsize=2.5, color=blues[i_z], linewidth=0, error_kw={'ecolor': 'k', 'elinewidth': 0.4, 'capthick': 0.4})\n",
    "# for i_z in range(n_z):\n",
    "#     ax.text(x_vec[i_z], 0.1, r'$\\it{z=}$'+label_vec[i_z], horizontalalignment='left',\n",
    "#                     verticalalignment='center_baseline', rotation=90, rotation_mode='anchor', fontsize=6, family='Arial')\n",
    "\n",
    "ax.text(x_vec[1].mean(), 1.05, r'$\\it q\\!=\\!\\!1$', size=5, color=blues[1,:3]*0, ha='center')\n",
    "\n",
    "# x_vec = np.array([11,12,13,14])\n",
    "\n",
    "K_max = data_50['L23_margin_mean'][:,0,i_a,0].max()\n",
    "K_mean = data_50['L23_margin_mean'][:,0,i_a,0]/K_max\n",
    "K_std = data_50['L23_margin_std'][:,0,i_a,0]/K_max\n",
    "K_sem = data_50['L23_margin_std'][:,0,i_a,0]/np.sqrt(N)/K_max\n",
    "\n",
    "_, pval23 = ttest_ind_from_stats(mean1=K_mean[2], std1=K_std[2], nobs1=1000, mean2=K_mean[3], std2=K_std[3], nobs2=1000, equal_var=False)\n",
    "\n",
    "for i_z in range(n_z):\n",
    "    b01 = ax.bar(x_vec[2,i_z], K_mean[i_z], #yerr=K_sem[i_z],\n",
    "                width=0.75, capsize=2.5, color=blues[i_z], linewidth=0, error_kw={'ecolor': 'k', 'elinewidth': 0.4, 'capthick': 0.4})\n",
    "# for i_z in range(n_z):\n",
    "#     ax.text(x_vec[i_z], 0.1, r'$\\it{z=}$'+label_vec[i_z], horizontalalignment='left',\n",
    "#                     verticalalignment='center_baseline', rotation=90, rotation_mode='anchor', fontsize=6, family='Arial')\n",
    "ax.text(x_vec[2].mean(), 1.05, r'$\\it q\\!=\\!2/3$', size=5, color=blues[2,:3]*0, ha='center')\n",
    "\n",
    "# x_vec = np.array([16,17,18,19])\n",
    "\n",
    "K_max = data_50['L24_margin_mean'][:,0,i_a,0].max()\n",
    "K_mean = data_50['L24_margin_mean'][:,0,i_a,0]/K_max\n",
    "K_std = data_50['L24_margin_std'][:,0,i_a,0]/K_max\n",
    "K_sem = data_50['L24_margin_std'][:,0,i_a,0]/np.sqrt(N)/K_max\n",
    "\n",
    "_, pval24 = ttest_ind_from_stats(mean1=K_mean[2], std1=K_std[2], nobs1=1000, mean2=K_mean[3], std2=K_std[3], nobs2=1000, equal_var=False)\n",
    "\n",
    "for i_z in range(n_z):\n",
    "    b01 = ax.bar(x_vec[3,i_z], K_mean[i_z], #yerr=K_sem[i_z],\n",
    "                width=0.75, capsize=2.5, color=blues[i_z], linewidth=0, error_kw={'ecolor': 'k', 'elinewidth': 0.4, 'capthick': 0.4})\n",
    "# for i_z in range(n_z):\n",
    "#     ax.text(x_vec[i_z], 0.1, r'$\\it{z=}$'+label_vec[i_z], horizontalalignment='left',\n",
    "#                     verticalalignment='center_baseline', rotation=90, rotation_mode='anchor', fontsize=6, family='Arial')\n",
    "ax.text(x_vec[3].mean(), 1.05, r'$\\it q\\!=\\!\\!1/2$', size=5, color=blues[3,:3]*0, ha='center')\n",
    "\n",
    "\n",
    "ax.set_ylim([0, 1])\n",
    "ax.set_yticks([0, 1])\n",
    "# ax.set_xticks(x_vec.mean(axis=1), [1, 2, 3, 4], rotation=0, rotation_mode='anchor')\n",
    "ax.set_xticks(x_vec.flatten(), [1, 2, 3, 4]*4, size=5)\n",
    "ax.set_xlabel(r'$\\it z$', labelpad=0)\n",
    "ax.set_ylabel(r'SNR', labelpad=0)\n",
    "# ax.set_title('Isotropic noise', y=1, fontsize=6)\n",
    "\n",
    "fig.show()"
   ]
  },
  {
   "cell_type": "markdown",
   "id": "51b227df-559d-4713-a93a-ae0338a3eea3",
   "metadata": {},
   "source": [
    "### Neural SNR ($q=2$) for networks with different $z$-values"
   ]
  },
  {
   "cell_type": "code",
   "execution_count": 38,
   "id": "f841e754-f4ee-4f7a-bdb2-ed42afdbf07e",
   "metadata": {},
   "outputs": [
    {
     "name": "stderr",
     "output_type": "stream",
     "text": [
      "/var/folders/zw/97zkf2ps7tvc9t7jcj25pv0w0000gn/T/ipykernel_1391/3320219062.py:60: UserWarning: FigureCanvasAgg is non-interactive, and thus cannot be shown\n",
      "  fig.show()\n"
     ]
    },
    {
     "data": {
      "image/png": "[encoded data removed]",
      "text/plain": [
       "<Figure size 206.693x218.504 with 1 Axes>"
      ]
     },
     "metadata": {},
     "output_type": "display_data"
    }
   ],
   "source": [
    "fig, ax = plt.subplots(figsize=(3.5*cm, 3.7*cm), nrows=1, ncols=1, gridspec_kw={'height_ratios':[1]})\n",
    "\n",
    "# Plot margin\n",
    "# fig = plt.figure(figsize=(4, 6))\n",
    "#fig.add_subplot(411)\n",
    "# ax = axs[0]\n",
    "f = 0.5\n",
    "f_noise = 0.03*f\n",
    "noise_factor = np.sqrt( f_noise + 0.25*((1-2*f)/(f*(1-f)))*f_noise**2 )\n",
    "ax.plot(theory_l2['alpha_c'][:,0]/ac_50, theory_l2['k']/noise_factor, color=blues[0], linestyle=(0,(1.5,1)), lw=.8)\n",
    "# l0_vec = [0.3, 0.2, 0.1, 0.05, 0.02]\n",
    "# for il0, l0 in enumerate(l0_vec):\n",
    "#     idx_l0 = np.argmin(np.abs(theory_l2['l0']-l0))\n",
    "    # ax.plot(theory_l2['alpha_0'][:,idx_l0], theory_l2['k0']/norm_50, c='lightgrey', lw=0.5, ls=(0,(6,3)))\n",
    "for i_z in range(n_z):\n",
    "    jit = (i_z-1.5)*0.005\n",
    "    ax.errorbar(data_50['a']/ac_50, data_50['min_margin_mean'][i_z,0,:,:].mean(dim=-1)/noise_factor, capsize=3, marker='o', color=blues[i_z], fillstyle='full', linestyle='', linewidth=0.5, zorder=10-i_z, markersize=3.5)\n",
    "\n",
    "# ax.annotate('', xy=(0.12, 0.17), xycoords='data',\n",
    "#                 xytext=(0.24, 0.24), textcoords='data',\n",
    "#                 arrowprops=dict(arrowstyle=ArrowStyle('->', head_length=0.7, head_width=0.2, widthA=0.5, widthB=0.5, lengthA=0.1, lengthB=0.1, angleA=0, angleB=0, scaleA=None, scaleB=None),\n",
    "#                                 color='darkgray', lw=0.5,\n",
    "#                                 shrinkA=0, shrinkB=0,\n",
    "#                                 patchA=None, patchB=None,)\n",
    "#             )\n",
    "# ax.text(0.17, 0.225, 'C', ha=\"center\", va=\"center\", color='darkgray', rotation_mode='anchor', rotation=30, fontsize=7)\n",
    "\n",
    "ax.set_yscale('log')\n",
    "ax.set_xlim([0.05, 0.75])\n",
    "ax.set_ylim([0.6, 11])\n",
    "# ax.spines['bottom'].set_bounds([0, 0.6])\n",
    "# ax.spines['right'].set_bounds(ax.get_yticks()[[0,-1]])\n",
    "ax.set_xticks([0.1, 0.3, 0.5, 0.7])\n",
    "ax.set_yticks([1, 10], [1, 10])\n",
    "ax.set_xlabel(r'Storage load $\\it{\\alpha / \\alpha_c}$')\n",
    "\n",
    "ax.text(0.4, 5, r'$\\dfrac{\\mathit{f}_{noise}}{\\mathit{f}} = 0.03$', size=6)\n",
    "# ax.text(0.55, 0.46, r'$SNR_{max}$', ha=\"left\", va=\"center\", color='tab:red', rotation_mode='anchor', rotation=-40, fontsize=7)\n",
    "\n",
    "# line_theory = mlines.Line2D([], [], color='tab:red', linestyle=(0,(2,1)), lw=2)\n",
    "line1 = mlines.Line2D([], [], color=blues[0], linestyle='none', lw=2, marker='o', markersize=3)\n",
    "line2 = mlines.Line2D([], [], color=blues[1], linestyle='none', lw=2, marker='o', markersize=3)\n",
    "line3 = mlines.Line2D([], [], color=blues[2], linestyle='none', lw=2, marker='o', markersize=3)\n",
    "line4 = mlines.Line2D([], [], color=blues[3], linestyle='none', lw=2, marker='o', markersize=3)\n",
    "line5 = mlines.Line2D([], [], color='indianred', linestyle='--', lw=1.5)\n",
    "\n",
    "# leg1 = ax.legend([line1, line2, line3, line4], [r'$\\it{z}=1$', r'$\\it{z}=2$', r'$\\it{z}=3$', r'$\\it{z}=4$'],\n",
    "#           loc=(0.68,0.65), alignment='left', title='Simulation', fontsize=6, title_fontsize=6, frameon=False, labelspacing=0.1, handletextpad=.1, handleheight=1, handlelength=1, borderpad=0)\n",
    "\n",
    "# ax.legend([line5], [r'$\\it{z}=1$'],\n",
    "#           loc=(0.5,0.7), alignment='left', title='Theory', fontsize=6, title_fontsize=6, frameon=False, labelspacing=0.1, handletextpad=.1, handleheight=1, handlelength=1, borderpad=0)\n",
    "\n",
    "# ax.add_artist(leg1)\n",
    "\n",
    "# ax.text(0.45, 0.8, r'$\\it{f}=0.5$'+'\\n'+r'$\\it{\\alpha_c}=1.0$', size=6, ha='right')\n",
    "# ax.set_title('Neural noise')\n",
    "\n",
    "ax.set_ylabel(r'SNR', labelpad=-2)\n",
    "\n",
    "fig.show()\n"
   ]
  },
  {
   "cell_type": "markdown",
   "id": "df483d3a-714f-446a-9138-c01c0b1e1692",
   "metadata": {},
   "source": [
    "### Synaptic SNR ($q=1$) for networks with different $z$-values"
   ]
  },
  {
   "cell_type": "code",
   "execution_count": 39,
   "id": "13c918c3-c593-476c-a08c-d99d668afa29",
   "metadata": {},
   "outputs": [
    {
     "name": "stderr",
     "output_type": "stream",
     "text": [
      "/var/folders/zw/97zkf2ps7tvc9t7jcj25pv0w0000gn/T/ipykernel_1391/4261293489.py:55: UserWarning: FigureCanvasAgg is non-interactive, and thus cannot be shown\n",
      "  fig.show()\n"
     ]
    },
    {
     "data": {
      "image/png": "[encoded data removed]",
      "text/plain": [
       "<Figure size 206.693x218.504 with 1 Axes>"
      ]
     },
     "metadata": {},
     "output_type": "display_data"
    }
   ],
   "source": [
    "fig, ax = plt.subplots(figsize=(3.5*cm, 3.7*cm), nrows=1, ncols=1)\n",
    "\n",
    "# ax = axs[0]\n",
    "# fig = plt.figure(figsize=(3, 6))\n",
    "# ax = fig.add_subplot(411)\n",
    "\n",
    "f = 0.5\n",
    "mu_u = 0.1\n",
    "sig_u = 0.2*mu_u\n",
    "\n",
    "# bias_term = 0.5*np.sqrt( N*f / (1.5*np.pi - 1) )\n",
    "theory_bias_z1 = 0 #np.sqrt( 0.5*N*f / (np.pi - 1) )\n",
    "# theory_noise = np.sqrt(0.5*N*f*(1.5-1/np.pi)*sig_u**2)\n",
    "theory_noise_z1 = np.sqrt(N*f*0.5*sig_u**2) #np.sqrt(N*f*(1-1/np.pi)*sig_u**2)\n",
    "theory_signal_z1 = theory_l2['k']*data_50['l2_mean'][0,0,:,0].mean().numpy()\n",
    "ax.plot(theory_l2['alpha_c'][:,0]/ac_50, theory_signal_z1/theory_noise_z1 - theory_bias_z1, color=blues[0], linestyle=(0,(1.5,0.8)), lw=.8)\n",
    "\n",
    "\n",
    "# mean_w_factor = (0.1/(data_50['l1_mean'][0,0,:,0]/(data_50['l0_mean'][0,0,:,0]*N))).mean().numpy()\n",
    "# ax.plot(theory_l1['alpha_c'][:,0]/ac_50, theory_l1['rho']*np.sqrt(theory_l1['p_exc'][:,0]*N*0.015)*f/np.sqrt(N), color='lightpink', linestyle='--')\n",
    "idx_a = np.argmin(np.abs(theory_l1['alpha_c'][:,0:1] - data_50['a'][None,:].numpy()), axis=0)\n",
    "theory_signal_z2 = theory_l1['rho'][idx_a]*f/np.sqrt(N)*np.sqrt(data_50['l1_mean'][1,0,:,0].numpy())\n",
    "theory_noise_z2 = np.sqrt(f*sig_u**2)\n",
    "ax.plot(theory_l1['alpha_c'][idx_a,0]/ac_50, theory_signal_z2/theory_noise_z2, color=blues[1], linestyle=(0,(1.5,0.8)), lw=.8)\n",
    "\n",
    "\n",
    "sim_signal_z1 = data_50['syn_margin_mean'][0,0,:,0]*np.sqrt(N)\n",
    "sim_noise_z1 = sig_u*np.sqrt(N*f*data_50['l0_mean'][0,0,:,0]) #sig_u*np.sqrt( N*f*(1 - 2*(1-data_50['l0_mean'][0,0,:,0])/np.pi))\n",
    "sim_bias_z1 = 0 #N*f*sig_u*(1-data_50['l0_mean'][0,0,:,0])*np.sqrt(2/np.pi)\n",
    "ax.errorbar(data_50['a']/ac_50, (sim_signal_z1-sim_bias_z1)/sim_noise_z1, color=blues[0], capsize=3, marker='o', fillstyle='full', ls='', linewidth=0.5, markersize=3.5, zorder=8.5)\n",
    "\n",
    "for i_z in [3,2,1]:\n",
    "    #noise_factor = np.sqrt(0.5*f*(1.5-1/np.pi)*sig_u**2) if i_z==0 else np.sqrt(f*sig_u**2)\n",
    "    noise_factor = np.sqrt(f*sig_u**2)\n",
    "    #noise_bias = theory_bias_z1 if i_z==0 else 0\n",
    "    # ax.errorbar(data_50['a']/ac_50, data_50['rho_mean'][i_z,0,:,0]*torch.sqrt(data_50['l0_mean'][1,0,:,0]*N*0.1)*0.5/np.sqrt(N)/np.sqrt(2)/np.sqrt(0.5), color=blues[i_z], capsize=3, marker='o', fillstyle='full', linewidth=0.5, zorder=10-i_z)\n",
    "    ax.errorbar(data_50['a']/ac_50, data_50['syn_margin_mean'][i_z,0,:,0]/noise_factor, color=blues[i_z], capsize=3, marker='o', fillstyle='full', ls='', linewidth=0.5, markersize=3.5, zorder=10-i_z)\n",
    "\n",
    "ax.set_yscale('log')\n",
    "ax.set_xlim([0.05, 0.75])\n",
    "ax.set_xticks([0.1, 0.3, 0.5, 0.7])\n",
    "ax.set_ylim([0.6, 12])\n",
    "ax.set_yticks([1, 10], [1, 10])\n",
    "ax.set_ylabel(r'SNR', labelpad=-2)\n",
    "ax.set_xlabel(r'Storage load $\\it{\\alpha / \\alpha_c}$')\n",
    "\n",
    "# ax.set_title('Synaptic noise')\n",
    "ax.text(0.4, 6, r'$\\dfrac{\\mathit{\\sigma}_{noise}}{\\langle \\mathit{u} \\rangle_{\\!obs}} = 0.2$', size=6)\n",
    "\n",
    "line1 = mlines.Line2D([], [], color='indianred', linestyle='--', lw=1.5)\n",
    "line2 = mlines.Line2D([], [], color='lightpink', linestyle='--', lw=1.5)\n",
    "# ax.legend([line2, line1], [r'$\\it{z}=2$', r'$\\it{z}=1$'],\n",
    "#           loc=(0.6,0.7), alignment='left', title='Theory', fontsize=6, title_fontsize=6, frameon=False, labelspacing=0.1, handletextpad=.1, handleheight=0.7, handlelength=1, borderpad=0)\n",
    "\n",
    "fig.show()\n"
   ]
  },
  {
   "cell_type": "code",
   "execution_count": null,
   "id": "24b48b51-f542-4577-a519-f0b5ea08c2e4",
   "metadata": {},
   "outputs": [],
   "source": []
  },
  {
   "cell_type": "markdown",
   "id": "f04efcef-7858-46dc-9449-eee389052af8",
   "metadata": {},
   "source": [
    "### Ablation simulations\n",
    "We can compare these results with the SNR \"ablated\" network in which the homeostatic term has been removed from the consolidation model. "
   ]
  },
  {
   "cell_type": "code",
   "execution_count": 33,
   "id": "dd8042be-0dfd-4010-9c0e-caee16209555",
   "metadata": {},
   "outputs": [
    {
     "name": "stderr",
     "output_type": "stream",
     "text": [
      "/var/folders/zw/97zkf2ps7tvc9t7jcj25pv0w0000gn/T/ipykernel_1391/465568443.py:51: UserWarning: FigureCanvasAgg is non-interactive, and thus cannot be shown\n",
      "  fig.show()\n"
     ]
    },
    {
     "data": {
      "image/png": "[encoded data removed]",
      "text/plain": [
       "<Figure size 145.669x133.858 with 1 Axes>"
      ]
     },
     "metadata": {},
     "output_type": "display_data"
    }
   ],
   "source": [
    "fig, ax = plt.subplots(figsize=(3.7*cm, 3.4*cm), nrows=1, ncols=1)\n",
    "\n",
    "# Plot margin\n",
    "# fig = plt.figure(figsize=(4, 6))\n",
    "#fig.add_subplot(411)\n",
    "# ax = axs[0]\n",
    "# ax.plot(theory_l2['alpha_c'][:,0]/ac_50, theory_l2['k'], color='indianred', linestyle='--')\n",
    "\n",
    "f = 0.5\n",
    "f_noise = 0.05*f\n",
    "noise_factor = np.sqrt( f_noise + 0.25*((1-2*f)/(f*(1-f)))*f_noise**2 )\n",
    "\n",
    "for i_z in range(n_z):\n",
    "    ax.errorbar(data_50['a']/ac_50, data_50['min_margin_mean'][i_z,0,:,:].mean(dim=-1)/noise_factor, capsize=3, marker='none', color=blues[i_z], fillstyle='full', linewidth=1, zorder=10-i_z, markersize=3.5)\n",
    "    ax.errorbar(data_50_no_norm['a']/ac_50, data_50_no_norm['min_margin_mean'][i_z,0,:,:].mean(dim=-1)/noise_factor, capsize=3, marker='none', color=greys[i_z], fillstyle='full', linewidth=0.5, zorder=100-i_z, markersize=2.5)\n",
    "\n",
    "err_markers = np.where(data_50_no_norm['err'][:,0,:,0]>0, 'x', 'o')\n",
    "for i_z in range(n_z):\n",
    "    for i_a in range(n_a):\n",
    "        ax.scatter(data_50_no_norm['a'][i_a]/ac_50, data_50_no_norm['min_margin_mean'][i_z,0,i_a,0]/noise_factor, s=10, lw=0.75, marker=err_markers[i_z,i_a], color=greys[i_z], zorder=200-i_z)\n",
    "\n",
    "ax.set_yscale('log')\n",
    "ax.set_xlim([0.05, 0.75])\n",
    "ax.set_xticks([0.1, 0.3, 0.5, 0.7])\n",
    "# ax.set_ylim([0.015, 1.5])\n",
    "ax.set_ylim([0.1, 10])\n",
    "ax.set_yticks([0.1, 1, 10], [0.1, 1, 10])\n",
    "ax.set_xlabel(r'Storage load $\\it{\\alpha / \\alpha_c}$')\n",
    "ax.set_ylabel(r'SNR')\n",
    "\n",
    "ax.text(0.4, 4, r'$\\dfrac{\\mathit{f}_{noise}}{\\mathit{f}} = 0.05$', size=6)\n",
    "\n",
    "# ax.text(0.45, 0.8, r'$\\it{f}=0.5$'+'\\n'+r'$\\it{\\alpha_c}=1.0$', size=6, ha='right')\n",
    "# ax.set_title('           No normalization', y=0.9, size=6)\n",
    "\n",
    "line1 = mlines.Line2D([], [], color=greys[0], linestyle='-', lw=0.5, marker='o', markersize=2.2)\n",
    "line2 = mlines.Line2D([], [], color=greys[1], linestyle='-', lw=0.5, marker='o', markersize=2.2)\n",
    "line3 = mlines.Line2D([], [], color=greys[2], linestyle='-', lw=0.5, marker='o', markersize=2.2)\n",
    "line4 = mlines.Line2D([], [], color=greys[3], linestyle='-', lw=0.5, marker='o', markersize=2.2)\n",
    "line5 = mlines.Line2D([], [], mfc='none', mec='k', linestyle='none', mew=0.5, marker='o', markersize=2.7)\n",
    "line6 = mlines.Line2D([], [], mfc='none', mec='k', linestyle='none', mew=0.5, marker='x', markersize=2.7)\n",
    "\n",
    "# leg1 = ax.legend([line1, line2, line3, line4], [r'$\\it{z}=1$', r'$\\it{z}=2$', r'$\\it{z}=3$', r'$\\it{z}=4$'], reverse=True,\n",
    "#           loc=[0.03, 0.04], alignment='left', fontsize=5, title_fontsize=5, frameon=False, labelspacing=0.0, handletextpad=.08, handlelength=1, borderpad=0)\n",
    "\n",
    "# ax.legend([line5,line6], [r'$Error = 0$', r'$Error > 0$' ],\n",
    "#           loc=[0.3, 0.07], alignment='left', fontsize=5, title_fontsize=5, frameon=False, labelspacing=0.1, handletextpad=.1, handlelength=1, borderpad=0)\n",
    "\n",
    "# ax.add_artist(leg1)\n",
    "\n",
    "fig.show()"
   ]
  },
  {
   "cell_type": "markdown",
   "id": "a55d7c4b-be8e-4522-b4a3-30e1171cb945",
   "metadata": {},
   "source": [
    "We also simulate an \"ablated\" network in which "
   ]
  }
 ],
 "metadata": {
  "kernelspec": {
   "display_name": "Python 3 (ipykernel)",
   "language": "python",
   "name": "python3"
  },
  "language_info": {
   "codemirror_mode": {
    "name": "ipython",
    "version": 3
   },
   "file_extension": ".py",
   "mimetype": "text/x-python",
   "name": "python",
   "nbconvert_exporter": "python",
   "pygments_lexer": "ipython3",
   "version": "3.12.11"
  }
 },
 "nbformat": 4,
 "nbformat_minor": 5
}
